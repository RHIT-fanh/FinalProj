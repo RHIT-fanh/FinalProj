{
 "cells": [
  {
   "cell_type": "code",
   "execution_count": 14,
   "id": "3ce1204b",
   "metadata": {},
   "outputs": [
    {
     "name": "stdout",
     "output_type": "stream",
     "text": [
      "Index(['game_id', 'Game Date', 'Home Days Since Last Game',\n",
      "       'Home Games Last 7 Days', 'Home Is Back-to-Back',\n",
      "       'Away Days Since Last Game', 'Away Games Last 7 Days',\n",
      "       'Away Is Back-to-Back', 'Away Team Recent 10 Win Rate',\n",
      "       'Home Team Recent 10 Win Rate', 'Home Team Recent 3 Months Win Rate',\n",
      "       'Away Team Recent 3 Months Win Rate', 'home_pts_avg_last10',\n",
      "       'home_reb_avg_last10', 'home_ast_avg_last10',\n",
      "       'home_plus_minus_avg_last10', 'away_pts_avg_last10',\n",
      "       'away_reb_avg_last10', 'away_ast_avg_last10',\n",
      "       'away_plus_minus_avg_last10', 'target', 'home_injury_count',\n",
      "       'away_injury_count', 'is_playoffs', 'is_playoffs_game_df'],\n",
      "      dtype='object')\n",
      "Index(['game_id', 'Game Date', 'Home Days Since Last Game',\n",
      "       'Home Games Last 7 Days', 'Home Is Back-to-Back',\n",
      "       'Away Days Since Last Game', 'Away Games Last 7 Days',\n",
      "       'Away Is Back-to-Back', 'Away Team Recent 10 Win Rate',\n",
      "       'Home Team Recent 10 Win Rate', 'Home Team Recent 3 Months Win Rate',\n",
      "       'Away Team Recent 3 Months Win Rate', 'home_pts_avg_last10',\n",
      "       'home_reb_avg_last10', 'home_ast_avg_last10',\n",
      "       'home_plus_minus_avg_last10', 'away_pts_avg_last10',\n",
      "       'away_reb_avg_last10', 'away_ast_avg_last10',\n",
      "       'away_plus_minus_avg_last10', 'target', 'home_injury_count',\n",
      "       'away_injury_count', 'is_playoffs', 'is_playoffs_game_df'],\n",
      "      dtype='object')\n"
     ]
    }
   ],
   "source": [
    "import pandas as pd\n",
    "from sklearn.linear_model import LogisticRegression\n",
    "from sklearn.metrics import accuracy_score, classification_report\n",
    "\n",
    "# Step 1: Load and prepare data\n",
    "df = pd.read_csv(\"nba_22features.csv\")\n",
    "df['Game Date'] = pd.to_datetime(df['Game Date'])\n",
    "\n",
    "# Step 2: Filter 2016 playoffs for testing\n",
    "playoffs_2016 = df[(df['Game Date'].dt.year == 2016) & (df['is_playoffs'] == True)]\n",
    "train_df = df[~df.index.isin(playoffs_2016.index)]\n",
    "\n",
    "print(playoffs_2016.columns)\n",
    "print(train_df.columns)"
   ]
  },
  {
   "cell_type": "code",
   "execution_count": 15,
   "id": "e013043c",
   "metadata": {},
   "outputs": [
    {
     "name": "stdout",
     "output_type": "stream",
     "text": [
      "Accuracy on 2016 Playoffs: 0.7093023255813954\n",
      "              precision    recall  f1-score   support\n",
      "\n",
      "         0.0       0.59      0.36      0.44        28\n",
      "         1.0       0.74      0.88      0.80        58\n",
      "\n",
      "    accuracy                           0.71        86\n",
      "   macro avg       0.66      0.62      0.62        86\n",
      "weighted avg       0.69      0.71      0.69        86\n",
      "\n"
     ]
    }
   ],
   "source": [
    "from sklearn.discriminant_analysis import StandardScaler\n",
    "\n",
    "\n",
    "X_train = train_df.drop(columns=['game_id', 'Game Date', 'is_playoffs', 'target'])\n",
    "y_train = train_df['target']\n",
    "\n",
    "X_test = playoffs_2016.drop(columns=['game_id', 'Game Date', 'is_playoffs', 'target'])\n",
    "y_test = playoffs_2016['target']\n",
    "\n",
    "\n",
    "X_train_clean = X_train.dropna()\n",
    "y_train_clean = y_train[X_train_clean.index]\n",
    "\n",
    "\n",
    "scaler = StandardScaler()\n",
    "X_train_scaled = scaler.fit_transform(X_train_clean)\n",
    "X_test_scaled = scaler.transform(X_test)\n",
    "\n",
    "model = LogisticRegression(max_iter=3000)\n",
    "model.fit(X_train_clean, y_train_clean)\n",
    "\n",
    "y_pred = model.predict(X_test)\n",
    "\n",
    "print(\"Accuracy on 2016 Playoffs:\", accuracy_score(y_test, y_pred))\n",
    "print(classification_report(y_test, y_pred))\n",
    "\n"
   ]
  },
  {
   "cell_type": "code",
   "execution_count": 16,
   "id": "9284a931",
   "metadata": {},
   "outputs": [
    {
     "name": "stdout",
     "output_type": "stream",
     "text": [
      "Model Predictions on 2016 NBA Finals:\n",
      "       Game Date   game_id  target  prediction  correct\n",
      "19962 2016-06-02  41500401     1.0         0.0    False\n",
      "19963 2016-06-05  41500402     1.0         1.0     True\n",
      "19964 2016-06-08  41500403     1.0         1.0     True\n",
      "19965 2016-06-10  41500404     0.0         1.0    False\n",
      "19966 2016-06-13  41500405     0.0         1.0    False\n",
      "19967 2016-06-16  41500406     1.0         1.0     True\n",
      "19968 2016-06-19  41500407     0.0         1.0    False\n",
      "\n",
      "Accuracy on NBA Finals only: 42.86%\n"
     ]
    }
   ],
   "source": [
    "playoffs_2016 = playoffs_2016.copy()\n",
    "playoffs_2016['prediction'] = y_pred\n",
    "playoffs_2016['correct'] = (y_pred == y_test)\n",
    "\n",
    "\n",
    "finals_games = playoffs_2016[\n",
    "    (playoffs_2016['Game Date'] >= '2016-06-02') &\n",
    "    (playoffs_2016['Game Date'] <= '2016-06-19')\n",
    "]\n",
    "\n",
    "print(\"Model Predictions on 2016 NBA Finals:\")\n",
    "print(finals_games[['Game Date', 'game_id', 'target', 'prediction', 'correct']])\n",
    "\n",
    "finals_accuracy = accuracy_score(finals_games['target'], finals_games['prediction'])\n",
    "print(f\"\\nAccuracy on NBA Finals only: {finals_accuracy:.2%}\")"
   ]
  },
  {
   "cell_type": "code",
   "execution_count": 17,
   "id": "cdf56e76",
   "metadata": {},
   "outputs": [
    {
     "name": "stdout",
     "output_type": "stream",
     "text": [
      "🏀 2016 NBA Finals Model Predictions:\n",
      "\n",
      "   Game Date                                            summary\n",
      "0 2016-06-02  Golden State Warriors vs Cleveland Cavaliers |...\n",
      "1 2016-06-05  Golden State Warriors vs Cleveland Cavaliers |...\n",
      "2 2016-06-08  Cleveland Cavaliers vs Golden State Warriors |...\n",
      "3 2016-06-10  Cleveland Cavaliers vs Golden State Warriors |...\n",
      "4 2016-06-13  Golden State Warriors vs Cleveland Cavaliers |...\n",
      "5 2016-06-16  Cleveland Cavaliers vs Golden State Warriors |...\n",
      "6 2016-06-19  Golden State Warriors vs Cleveland Cavaliers |...\n"
     ]
    }
   ],
   "source": [
    "games_df = pd.read_csv(\"game.csv\")\n",
    "\n",
    "# Step 2: Extract relevant columns\n",
    "game_meta = games_df[['game_id', 'team_name_home', 'team_name_away']]\n",
    "\n",
    "# Step 3: Merge with your playoff predictions\n",
    "finals_with_teams = finals_games.merge(game_meta, on='game_id', how='left')\n",
    "\n",
    "# Step 4: Create a readable summary\n",
    "def summarize(row):\n",
    "    actual = \"Home win\" if row['target'] == 1 else \"Away win\"\n",
    "    predicted = \"Home\" if row['prediction'] == 1 else \"Away\"\n",
    "    status = \"✅\" if row['correct'] else \"❌\"\n",
    "    return f\"{row['team_name_home']} vs {row['team_name_away']} | Actual: {actual}, Predicted: {predicted} {status}\"\n",
    "\n",
    "finals_with_teams['summary'] = finals_with_teams.apply(summarize, axis=1)\n",
    "\n",
    "# Step 5: Show final readable report\n",
    "print(\"🏀 2016 NBA Finals Model Predictions:\\n\")\n",
    "print(finals_with_teams[['Game Date', 'summary']])"
   ]
  },
  {
   "cell_type": "code",
   "execution_count": 18,
   "id": "a2715cbd",
   "metadata": {},
   "outputs": [
    {
     "name": "stdout",
     "output_type": "stream",
     "text": [
      "📊 Combined Finals Predictions:\n",
      "\n",
      "   Game Date         team_name_home         team_name_away  \\\n",
      "0 2016-06-02  Golden State Warriors    Cleveland Cavaliers   \n",
      "1 2016-06-05  Golden State Warriors    Cleveland Cavaliers   \n",
      "2 2016-06-08    Cleveland Cavaliers  Golden State Warriors   \n",
      "3 2016-06-10    Cleveland Cavaliers  Golden State Warriors   \n",
      "4 2016-06-13  Golden State Warriors    Cleveland Cavaliers   \n",
      "5 2016-06-16    Cleveland Cavaliers  Golden State Warriors   \n",
      "6 2016-06-19  Golden State Warriors    Cleveland Cavaliers   \n",
      "\n",
      "                 result_summary  \n",
      "0  Home win / Predicted: Away ❌  \n",
      "1  Home win / Predicted: Home ✅  \n",
      "2  Home win / Predicted: Home ✅  \n",
      "3  Away win / Predicted: Home ❌  \n",
      "4  Away win / Predicted: Home ❌  \n",
      "5  Home win / Predicted: Home ✅  \n",
      "6  Away win / Predicted: Home ❌  \n"
     ]
    }
   ],
   "source": [
    "def describe_game(row):\n",
    "    actual = \"Home win\" if row['target'] == 1 else \"Away win\"\n",
    "    predicted = \"Home\" if row['prediction'] == 1 else \"Away\"\n",
    "    correct = \"✅\" if row['correct'] else \"❌\"\n",
    "    return f\"{actual} / Predicted: {predicted} {correct}\"\n",
    "\n",
    "# Apply description\n",
    "finals_with_teams['result_summary'] = finals_with_teams.apply(describe_game, axis=1)\n",
    "\n",
    "# Final summary table\n",
    "final_summary = finals_with_teams[[\n",
    "    'Game Date', 'team_name_home', 'team_name_away', 'result_summary'\n",
    "]]\n",
    "\n",
    "# Sort by date (just in case)\n",
    "final_summary = final_summary.sort_values(by='Game Date')\n",
    "\n",
    "# Display\n",
    "print(\"📊 Combined Finals Predictions:\\n\")\n",
    "print(final_summary)"
   ]
  },
  {
   "cell_type": "code",
   "execution_count": null,
   "id": "884f04d2",
   "metadata": {},
   "outputs": [],
   "source": []
  }
 ],
 "metadata": {
  "kernelspec": {
   "display_name": "dm",
   "language": "python",
   "name": "dm"
  },
  "language_info": {
   "codemirror_mode": {
    "name": "ipython",
    "version": 3
   },
   "file_extension": ".py",
   "mimetype": "text/x-python",
   "name": "python",
   "nbconvert_exporter": "python",
   "pygments_lexer": "ipython3",
   "version": "3.12.3"
  }
 },
 "nbformat": 4,
 "nbformat_minor": 5
}
