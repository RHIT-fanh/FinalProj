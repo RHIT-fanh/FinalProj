{
 "cells": [
  {
   "cell_type": "code",
   "execution_count": 2,
   "id": "53f89815",
   "metadata": {},
   "outputs": [],
   "source": [
    "import pandas as pd\n",
    "\n",
    "# 1. Load the game.csv\n",
    "game_df = pd.read_csv(\"game.csv\", parse_dates=[\"game_date\"])\n",
    "\n",
    "# 2. Create long-format (one row per team per game)\n",
    "home_df = game_df[[\n",
    "    \"game_id\", \"game_date\", \"team_name_home\", \"pts_home\", \"reb_home\", \"ast_home\", \"plus_minus_home\"\n",
    "]].rename(columns={\n",
    "    \"team_name_home\": \"team\",\n",
    "    \"pts_home\": \"pts\",\n",
    "    \"reb_home\": \"reb\",\n",
    "    \"ast_home\": \"ast\",\n",
    "    \"plus_minus_home\": \"plus_minus\"\n",
    "})\n",
    "home_df[\"home_away\"] = \"home\"\n",
    "\n",
    "away_df = game_df[[\n",
    "    \"game_id\", \"game_date\", \"team_name_away\", \"pts_away\", \"reb_away\", \"ast_away\", \"plus_minus_away\"\n",
    "]].rename(columns={\n",
    "    \"team_name_away\": \"team\",\n",
    "    \"pts_away\": \"pts\",\n",
    "    \"reb_away\": \"reb\",\n",
    "    \"ast_away\": \"ast\",\n",
    "    \"plus_minus_away\": \"plus_minus\"\n",
    "})\n",
    "away_df[\"home_away\"] = \"away\"\n",
    "\n",
    "# 3. Combine both sides into one dataset\n",
    "long_df = pd.concat([home_df, away_df], ignore_index=True)\n",
    "\n",
    "# 4. Sort and compute rolling stats\n",
    "long_df = long_df.sort_values([\"team\", \"game_date\"])\n",
    "for stat in [\"pts\", \"reb\", \"ast\", \"plus_minus\"]:\n",
    "    long_df[f\"{stat}_avg_last10\"] = (\n",
    "        long_df.groupby(\"team\")[stat]\n",
    "        .transform(lambda x: x.shift(1).rolling(window=10, min_periods=1).mean())\n",
    "    )\n",
    "\n",
    "# 5. Pivot back: merge rolling stats into original game_df\n",
    "home_features = long_df[long_df[\"home_away\"] == \"home\"][[\n",
    "    \"game_id\", \"pts_avg_last10\", \"reb_avg_last10\", \"ast_avg_last10\", \"plus_minus_avg_last10\"\n",
    "]].rename(columns=lambda x: f\"home_{x}\" if x != \"game_id\" else x)\n",
    "\n",
    "away_features = long_df[long_df[\"home_away\"] == \"away\"][[\n",
    "    \"game_id\", \"pts_avg_last10\", \"reb_avg_last10\", \"ast_avg_last10\", \"plus_minus_avg_last10\"\n",
    "]].rename(columns=lambda x: f\"away_{x}\" if x != \"game_id\" else x)\n",
    "\n",
    "# 6. Merge new features into original game_df\n",
    "final_df = game_df.merge(home_features, on=\"game_id\", how=\"left\")\n",
    "final_df = final_df.merge(away_features, on=\"game_id\", how=\"left\")\n",
    "\n",
    "# 7. Save if needed\n",
    "final_df.to_csv(\"game_with_rolling_features.csv\", index=False)"
   ]
  },
  {
   "cell_type": "code",
   "execution_count": 4,
   "id": "fc5ff961",
   "metadata": {},
   "outputs": [
    {
     "data": {
      "text/plain": [
       "Index(['season_id', 'team_id_home', 'team_abbreviation_home', 'team_name_home',\n",
       "       'game_id', 'game_date', 'matchup_home', 'wl_home', 'min', 'fgm_home',\n",
       "       'fga_home', 'fg_pct_home', 'fg3m_home', 'fg3a_home', 'fg3_pct_home',\n",
       "       'ftm_home', 'fta_home', 'ft_pct_home', 'oreb_home', 'dreb_home',\n",
       "       'reb_home', 'ast_home', 'stl_home', 'blk_home', 'tov_home', 'pf_home',\n",
       "       'pts_home', 'plus_minus_home', 'video_available_home', 'team_id_away',\n",
       "       'team_abbreviation_away', 'team_name_away', 'matchup_away', 'wl_away',\n",
       "       'fgm_away', 'fga_away', 'fg_pct_away', 'fg3m_away', 'fg3a_away',\n",
       "       'fg3_pct_away', 'ftm_away', 'fta_away', 'ft_pct_away', 'oreb_away',\n",
       "       'dreb_away', 'reb_away', 'ast_away', 'stl_away', 'blk_away', 'tov_away',\n",
       "       'pf_away', 'pts_away', 'plus_minus_away', 'video_available_away',\n",
       "       'season_type', 'home_pts_avg_last10', 'home_reb_avg_last10',\n",
       "       'home_ast_avg_last10', 'home_plus_minus_avg_last10',\n",
       "       'away_pts_avg_last10', 'away_reb_avg_last10', 'away_ast_avg_last10',\n",
       "       'away_plus_minus_avg_last10'],\n",
       "      dtype='object')"
      ]
     },
     "execution_count": 4,
     "metadata": {},
     "output_type": "execute_result"
    }
   ],
   "source": [
    "game = pd.read_csv(\"game_with_rolling_features.csv\")\n",
    "game.sample(5)\n",
    "game.columns"
   ]
  },
  {
   "cell_type": "code",
   "execution_count": null,
   "id": "7ef6b562",
   "metadata": {},
   "outputs": [
    {
     "name": "stdout",
     "output_type": "stream",
     "text": [
      "Index(['season_id', 'team_id_home', 'team_abbreviation_home', 'team_name_home',\n",
      "       'game_id', 'game_date', 'matchup_home', 'wl_home', 'min', 'fgm_home',\n",
      "       'fga_home', 'fg_pct_home', 'fg3m_home', 'fg3a_home', 'fg3_pct_home',\n",
      "       'ftm_home', 'fta_home', 'ft_pct_home', 'oreb_home', 'dreb_home',\n",
      "       'reb_home', 'ast_home', 'stl_home', 'blk_home', 'tov_home', 'pf_home',\n",
      "       'pts_home', 'plus_minus_home', 'video_available_home', 'team_id_away',\n",
      "       'team_abbreviation_away', 'team_name_away', 'matchup_away', 'wl_away',\n",
      "       'fgm_away', 'fga_away', 'fg_pct_away', 'fg3m_away', 'fg3a_away',\n",
      "       'fg3_pct_away', 'ftm_away', 'fta_away', 'ft_pct_away', 'oreb_away',\n",
      "       'dreb_away', 'reb_away', 'ast_away', 'stl_away', 'blk_away', 'tov_away',\n",
      "       'pf_away', 'pts_away', 'plus_minus_away', 'video_available_away',\n",
      "       'season_type', 'home_pts_avg_last10', 'home_reb_avg_last10',\n",
      "       'home_ast_avg_last10', 'home_plus_minus_avg_last10',\n",
      "       'away_pts_avg_last10', 'away_reb_avg_last10', 'away_ast_avg_last10',\n",
      "       'away_plus_minus_avg_last10'],\n",
      "      dtype='object')\n",
      "Index(['Game ID', 'Game Date', 'Home Days Since Last Game',\n",
      "       'Home Games Last 7 Days', 'Home Is Back-to-Back',\n",
      "       'Away Days Since Last Game', 'Away Games Last 7 Days',\n",
      "       'Away Is Back-to-Back', 'Away Team Recent 10 Win Rate',\n",
      "       'Home Team Recent 10 Win Rate', 'Home Team Recent 3 Months Win Rate',\n",
      "       'Away Team Recent 3 Months Win Rate'],\n",
      "      dtype='object')\n"
     ]
    }
   ],
   "source": [
    "rolling_df = pd.read_csv(\"game_with_rolling_features.csv\", parse_dates=[\"game_date\"])\n",
    "selected_df = pd.read_csv(\"selected_game_features.csv\", parse_dates=[\"Game Date\"])\n",
    "print(rolling_df.columns)\n",
    "print(selected_df.columns)"
   ]
  },
  {
   "cell_type": "code",
   "execution_count": null,
   "id": "10082764",
   "metadata": {},
   "outputs": [],
   "source": []
  }
 ],
 "metadata": {
  "kernelspec": {
   "display_name": "dm",
   "language": "python",
   "name": "dm"
  },
  "language_info": {
   "codemirror_mode": {
    "name": "ipython",
    "version": 3
   },
   "file_extension": ".py",
   "mimetype": "text/x-python",
   "name": "python",
   "nbconvert_exporter": "python",
   "pygments_lexer": "ipython3",
   "version": "3.12.3"
  }
 },
 "nbformat": 4,
 "nbformat_minor": 5
}
