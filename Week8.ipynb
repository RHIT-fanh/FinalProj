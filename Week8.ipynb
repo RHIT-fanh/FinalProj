{
 "cells": [
  {
   "cell_type": "code",
   "execution_count": null,
   "id": "a34cb3d4",
   "metadata": {},
   "outputs": [],
   "source": [
    "import kagglehub\n",
    "\n",
    "# Download latest version\n",
    "path = kagglehub.dataset_download(\"wyattowalsh/basketball\")\n",
    "\n",
    "print(\"Path to dataset files:\", path)"
   ]
  },
  {
   "cell_type": "code",
   "execution_count": null,
   "id": "c20bbaa5",
   "metadata": {},
   "outputs": [],
   "source": [
    "import os\n",
    "import pandas as pd\n",
    "\n",
    "\n",
    "csv_folder = os.path.join(path, \"csv\")\n",
    "\n",
    "# List all CSV files in the folder\n",
    "csv_files = [f for f in os.listdir(csv_folder) if f.endswith('.csv')]\n",
    "\n",
    "# Read each CSV file into a dictionary with filenames as keys\n",
    "csv_data = {file: pd.read_csv(os.path.join(csv_folder, file)) for file in csv_files}\n",
    "\n",
    "# Print the number of features and column names for each CSV file\n",
    "for name, df in csv_data.items():\n",
    "    print(f\"{name} has {df.shape[1]} features:\")\n",
    "    print(df.columns.tolist())\n",
    "    print(\"-\" * 60)\n"
   ]
  },
  {
   "cell_type": "code",
   "execution_count": null,
   "id": "2a436969",
   "metadata": {},
   "outputs": [],
   "source": [
    "# extract game.csv \n",
    "game_df = csv_data['game.csv']\n",
    "\n",
    "if 'pts_home' in game_df.columns and 'pts_away' in game_df.columns:\n",
    "    game_df['result'] = (game_df['pts_home'] > game_df['pts_away']).astype(int)\n",
    "    print(game_df[['pts_home', 'pts_away', 'result']].head())\n",
    "else:\n",
    "    print(\"The required columns 'pts_home' and 'pts_away' are not present in the dataset.\")\n",
    "\n",
    "game_df['game_date'] = pd.to_datetime(game_df['game_date'])\n",
    "game_df_1999_onwards = game_df[game_df['game_date'].dt.year >= 1999]\n",
    "print(game_df_1999_onwards[['game_date', 'pts_home', 'pts_away', 'result']].head())\n"
   ]
  },
  {
   "cell_type": "code",
   "execution_count": null,
   "id": "c630ea2c",
   "metadata": {},
   "outputs": [],
   "source": [
    "game_df_1999_onwards = game_df_1999_onwards.dropna(subset=['result'])\n",
    "\n",
    "y = game_df_1999_onwards['result']\n",
    "\n",
    "y.head()\n"
   ]
  },
  {
   "cell_type": "code",
   "execution_count": null,
   "id": "97ebb050",
   "metadata": {},
   "outputs": [],
   "source": [
    "# Extract play_by_play.csv data\n",
    "play_by_play_df = csv_data['play_by_play.csv']\n",
    "\n",
    "# Display the first few rows\n",
    "play_by_play_df.head()\n",
    "\n"
   ]
  },
  {
   "cell_type": "code",
   "execution_count": null,
   "id": "e06b9337",
   "metadata": {},
   "outputs": [],
   "source": [
    "# Select relevant columns for win/loss statistics\n",
    "new_table = game_df_1999_onwards[['game_id', 'game_date', 'team_abbreviation_home', 'team_abbreviation_away', 'result']]\n",
    "\n",
    "# Rename columns\n",
    "new_table.columns = ['Game ID', 'Game Date', 'Home Team', 'Away Team', 'Home Win']\n",
    "\n",
    "# Display the first few rows\n",
    "print(new_table.head())"
   ]
  },
  {
   "cell_type": "code",
   "execution_count": null,
   "id": "38894be8",
   "metadata": {},
   "outputs": [],
   "source": [
    "from datetime import timedelta\n",
    "\n",
    "# Define a function to calculate win rate for the last N games\n",
    "def calculate_recent_win_rate(df, team_col, result_col, date_col, team, current_date, n):\n",
    "    recent_games = df[(df[team_col] == team) & (df[date_col] < current_date)].sort_values(by=date_col, ascending=False).head(n)\n",
    "    if recent_games.empty:\n",
    "        return 0\n",
    "    return recent_games[result_col].mean()\n",
    "\n",
    "# Define a function to calculate win rate for the last N months\n",
    "def calculate_recent_months_win_rate(df, team_col, result_col, date_col, team, current_date, months):\n",
    "    start_date = current_date - timedelta(days=30 * months)\n",
    "    recent_games = df[(df[team_col] == team) & (df[date_col] < current_date) & (df[date_col] >= start_date)]\n",
    "    if recent_games.empty:\n",
    "        return 0\n",
    "    return recent_games[result_col].mean()\n"
   ]
  },
  {
   "cell_type": "code",
   "execution_count": null,
   "id": "38ee59ce",
   "metadata": {},
   "outputs": [],
   "source": [
    "\n",
    "# Create a new table to store win rates\n",
    "new_table_with_win_rates = []\n",
    "\n",
    "for _, row in game_df_1999_onwards.iterrows():\n",
    "    game_id = row['game_id']\n",
    "    game_date = row['game_date']\n",
    "    home_team = row['team_abbreviation_home']\n",
    "    away_team = row['team_abbreviation_away']\n",
    "    \n",
    "    # Calculate recent 10-game win rate for home and away teams\n",
    "    home_recent_10_win_rate = calculate_recent_win_rate(game_df_1999_onwards, 'team_abbreviation_home', 'result', 'game_date', home_team, game_date, 10)\n",
    "    away_recent_10_win_rate = calculate_recent_win_rate(game_df_1999_onwards, 'team_abbreviation_away', 'result', 'game_date', away_team, game_date, 10)\n",
    "    \n",
    "    # Calculate recent 3-month win rate for home and away teams\n",
    "    home_recent_3_months_win_rate = calculate_recent_months_win_rate(game_df_1999_onwards, 'team_abbreviation_home', 'result', 'game_date', home_team, game_date, 3)\n",
    "    away_recent_3_months_win_rate = calculate_recent_months_win_rate(game_df_1999_onwards, 'team_abbreviation_away', 'result', 'game_date', away_team, game_date, 3)\n",
    "    \n",
    "    # Add data to the new table\n",
    "    new_table_with_win_rates.append({\n",
    "        'Game ID': game_id,\n",
    "        'Game Date': game_date,\n",
    "        'Home Team Recent 10 Win Rate': home_recent_10_win_rate,\n",
    "        'Away Team Recent 10 Win Rate': away_recent_10_win_rate,\n",
    "        'Home Team Recent 3 Months Win Rate': home_recent_3_months_win_rate,\n",
    "        'Away Team Recent 3 Months Win Rate': away_recent_3_months_win_rate\n",
    "    })\n",
    "\n",
    "# Convert to DataFrame\n",
    "new_table_with_win_rates_df = pd.DataFrame(new_table_with_win_rates)\n",
    "\n",
    "# Display the first 30 rows\n",
    "new_table_with_win_rates_df.head(30)"
   ]
  },
  {
   "cell_type": "markdown",
   "id": "061b3c6a",
   "metadata": {},
   "source": []
  },
  {
   "cell_type": "code",
   "execution_count": null,
   "id": "10652eef",
   "metadata": {},
   "outputs": [],
   "source": [
    "def days_since_last_game(df, team_col, date_col, team, current_date):\n",
    "    \"\"\"\n",
    "    Calculate days since the last game\n",
    "    \"\"\"\n",
    "    previous_games = df[(df[team_col] == team) & (df[date_col] < current_date)].sort_values(by=date_col, ascending=False)\n",
    "    if previous_games.empty:\n",
    "        return None  # Return None if no previous games\n",
    "    last_game_date = previous_games.iloc[0][date_col]\n",
    "    return (current_date - last_game_date).days\n",
    "\n",
    "\n",
    "def number_of_games_in_last_7_days(df, team_col, date_col, team, current_date):\n",
    "    \"\"\"\n",
    "    Count games in the last 7 days\n",
    "    \"\"\"\n",
    "    start_date = current_date - pd.Timedelta(days=7)\n",
    "    recent_games = df[(df[team_col] == team) & (df[date_col] < current_date) & (df[date_col] >= start_date)]\n",
    "    return len(recent_games)\n",
    "\n",
    "\n",
    "def is_back_to_back(df, team_col, date_col, team, current_date):\n",
    "    \"\"\"\n",
    "    Check if the game is back-to-back\n",
    "    \"\"\"\n",
    "    days_since_last = days_since_last_game(df, team_col, date_col, team, current_date)\n",
    "    return days_since_last == 1  # Back-to-back if 1 day since last game"
   ]
  },
  {
   "cell_type": "code",
   "execution_count": null,
   "id": "18df7c13",
   "metadata": {},
   "outputs": [],
   "source": [
    "# Create a new table with game statistics\n",
    "new_table_with_game_stats = []\n",
    "\n",
    "for _, row in game_df_1999_onwards.iterrows():\n",
    "    game_id = row['game_id']\n",
    "    game_date = row['game_date']\n",
    "    home_team = row['team_abbreviation_home']\n",
    "    away_team = row['team_abbreviation_away']\n",
    "    \n",
    "    # Calculate home team stats\n",
    "    home_days_since_last_game = days_since_last_game(game_df_1999_onwards, 'team_abbreviation_home', 'game_date', home_team, game_date)\n",
    "    home_games_last_7_days = number_of_games_in_last_7_days(game_df_1999_onwards, 'team_abbreviation_home', 'game_date', home_team, game_date)\n",
    "    home_is_back_to_back = is_back_to_back(game_df_1999_onwards, 'team_abbreviation_home', 'game_date', home_team, game_date)\n",
    "    \n",
    "    # Calculate away team stats\n",
    "    away_days_since_last_game = days_since_last_game(game_df_1999_onwards, 'team_abbreviation_away', 'game_date', away_team, game_date)\n",
    "    away_games_last_7_days = number_of_games_in_last_7_days(game_df_1999_onwards, 'team_abbreviation_away', 'game_date', away_team, game_date)\n",
    "    away_is_back_to_back = is_back_to_back(game_df_1999_onwards, 'team_abbreviation_away', 'game_date', away_team, game_date)\n",
    "    \n",
    "    # Add stats to the new table\n",
    "    new_table_with_game_stats.append({\n",
    "        'Game ID': game_id,\n",
    "        'Game Date': game_date,\n",
    "        'Home Days Since Last Game': home_days_since_last_game,\n",
    "        'Home Games Last 7 Days': home_games_last_7_days,\n",
    "        'Home Is Back-to-Back': home_is_back_to_back,\n",
    "        'Away Days Since Last Game': away_days_since_last_game,\n",
    "        'Away Games Last 7 Days': away_games_last_7_days,\n",
    "        'Away Is Back-to-Back': away_is_back_to_back\n",
    "    })\n",
    "\n",
    "# Convert to DataFrame\n",
    "new_table_with_game_stats_df = pd.DataFrame(new_table_with_game_stats)\n",
    "\n",
    "# Display the first few rows\n",
    "new_table_with_game_stats_df.head()"
   ]
  },
  {
   "cell_type": "code",
   "execution_count": null,
   "id": "c774be6f",
   "metadata": {},
   "outputs": [],
   "source": [
    "# Filter data from the year 2000 onwards\n",
    "filtered_data_2000_onwards = new_table_with_game_stats_df[new_table_with_game_stats_df['Game Date'].dt.year >= 2000]\n",
    "\n",
    "# Save the filtered data to a CSV file\n",
    "filtered_data_2000_onwards.to_csv('game_stats_2000_onwards.csv', index=False)"
   ]
  },
  {
   "cell_type": "code",
   "execution_count": null,
   "id": "0c27dbc1",
   "metadata": {},
   "outputs": [],
   "source": []
  }
 ],
 "metadata": {
  "kernelspec": {
   "display_name": "Python 3",
   "language": "python",
   "name": "python3"
  },
  "language_info": {
   "codemirror_mode": {
    "name": "ipython",
    "version": 3
   },
   "file_extension": ".py",
   "mimetype": "text/x-python",
   "name": "python",
   "nbconvert_exporter": "python",
   "pygments_lexer": "ipython3",
   "version": "3.11.9"
  }
 },
 "nbformat": 4,
 "nbformat_minor": 5
}
